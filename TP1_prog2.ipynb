{
 "cells": [
  {
   "cell_type": "markdown",
   "id": "695344e8",
   "metadata": {},
   "source": [
    "# TP1"
   ]
  },
  {
   "cell_type": "markdown",
   "id": "8a42b14d",
   "metadata": {},
   "source": [
    "## Exercice 2: La méthode des k-nn"
   ]
  },
  {
   "cell_type": "code",
   "execution_count": 33,
   "id": "dff087a2",
   "metadata": {},
   "outputs": [],
   "source": [
    "from sklearn.neighbors import KNeighborsClassifier\n",
    "from sklearn.model_selection import KFold\n",
    "from sklearn.datasets import fetch_openml \n",
    "from sklearn.metrics import confusion_matrix \n",
    "from sklearn.model_selection import train_test_split\n",
    "from sklearn.metrics import precision_score\n",
    "from sklearn.metrics import recall_score\n",
    "from sklearn.svm import SVC\n",
    "from sklearn.metrics import zero_one_loss\n",
    "import joblib\n",
    "import matplotlib.pyplot as plt \n",
    "import matplotlib.pylab as pyl\n",
    "import numpy as np\n",
    "import time\n",
    "import random\n",
    "import sys"
   ]
  },
  {
   "cell_type": "markdown",
   "id": "e27b2513",
   "metadata": {},
   "source": [
    "Charger le jeu de données mnist,"
   ]
  },
  {
   "cell_type": "code",
   "execution_count": 2,
   "id": "ebfedf3d",
   "metadata": {},
   "outputs": [],
   "source": [
    "mnist = fetch_openml('mnist_784',as_frame=False)"
   ]
  },
  {
   "cell_type": "markdown",
   "id": "59ae5d7d",
   "metadata": {},
   "source": [
    "Prendre un échantillon de données appelé data avec une taille de 5000 exemples à l’aide\n",
    "de la fonction np.random.randint(70000, size=5000)."
   ]
  },
  {
   "cell_type": "code",
   "execution_count": 6,
   "id": "6cd14d24",
   "metadata": {},
   "outputs": [],
   "source": [
    "echantillon = np.random.randint(70000,size=5000)\n",
    "np.savetxt('./sous-ensemble.txt', echantillon, fmt='%d')"
   ]
  },
  {
   "cell_type": "markdown",
   "id": "0b314467",
   "metadata": {},
   "source": [
    "Diviser la base de données à 80% pour l’apprentissage (training) et à 20% pour les tests,  "
   ]
  },
  {
   "cell_type": "code",
   "execution_count": 14,
   "id": "3f610af4",
   "metadata": {
    "scrolled": true
   },
   "outputs": [
    {
     "name": "stdout",
     "output_type": "stream",
     "text": [
      "5000\n",
      "taille de donnée training 4000\n",
      "taille de donnée à tester 1000\n",
      "(4000, 784)\n"
     ]
    }
   ],
   "source": [
    "echantillon = np.loadtxt('./sous-ensemble.txt', dtype=int)\n",
    "jeu = mnist.data[echantillon]\n",
    "jeu_target=mnist.target[echantillon]\n",
    "print(len(jeu))\n",
    "\n",
    "X_train,X_test,y_train,y_test = train_test_split(jeu,jeu_target, \n",
    "                train_size = 0.8,test_size=0.2, random_state=42)\n",
    "print(\"taille de donnée training\",len(X_train))\n",
    "print(\"taille de donnée à tester\",len(X_test))\n",
    "print(X_train.shape)\n"
   ]
  },
  {
   "cell_type": "markdown",
   "id": "26449b73",
   "metadata": {},
   "source": [
    "Entrainer un classifieur k-nn avec k = 10 sur le jeu de données chargé."
   ]
  },
  {
   "cell_type": "code",
   "execution_count": 15,
   "id": "d9ad064d",
   "metadata": {},
   "outputs": [],
   "source": [
    "neigh = KNeighborsClassifier(n_neighbors=10)\n",
    "neigh.fit(X_train,y_train)\n",
    "y_predict=neigh.predict(X_test)"
   ]
  },
  {
   "cell_type": "markdown",
   "id": "41eca46e",
   "metadata": {},
   "source": [
    "Afficher la classe de l’image 4 et sa classe prédite."
   ]
  },
  {
   "cell_type": "code",
   "execution_count": 17,
   "id": "decc094b",
   "metadata": {},
   "outputs": [
    {
     "name": "stdout",
     "output_type": "stream",
     "text": [
      "la classe de l’image 4 :  3\n",
      "sa classe prédite :  3\n"
     ]
    }
   ],
   "source": [
    "class_predit = neigh.predict(X_test)\n",
    "class_reel_4 = y_test[4]\n",
    "print(\"la classe de l’image 4 : \",class_reel_4)\n",
    "print(\"sa classe prédite : \",class_predit[4])"
   ]
  },
  {
   "cell_type": "markdown",
   "id": "30b8a2ae",
   "metadata": {},
   "source": [
    "Afficher le score sur l’échantillon de test"
   ]
  },
  {
   "cell_type": "code",
   "execution_count": 18,
   "id": "f4487a25",
   "metadata": {
    "scrolled": true
   },
   "outputs": [
    {
     "name": "stdout",
     "output_type": "stream",
     "text": [
      "0.921\n"
     ]
    }
   ],
   "source": [
    "print(neigh.score(X_test, y_test))"
   ]
  },
  {
   "cell_type": "markdown",
   "id": "5ebdba83",
   "metadata": {},
   "source": [
    "Quel est le taux d'erreur sur vos données d'apprentissage ? Est-ce normal ?"
   ]
  },
  {
   "cell_type": "code",
   "execution_count": 22,
   "id": "739b4e78",
   "metadata": {
    "scrolled": true
   },
   "outputs": [
    {
     "name": "stdout",
     "output_type": "stream",
     "text": [
      "0.07899999999999996\n"
     ]
    }
   ],
   "source": [
    "erreur=zero_one_loss(y_test, class_predit)\n",
    "print(erreur)"
   ]
  },
  {
   "cell_type": "markdown",
   "id": "618e5786",
   "metadata": {},
   "source": [
    "Faire varier le nombre de voisins (k) de 2 jusqu’à 15 et afficher le score. Quel est le k\n",
    "optimal ?"
   ]
  },
  {
   "cell_type": "markdown",
   "id": "cf1a9376",
   "metadata": {},
   "source": [
    "Utilisez une boucle"
   ]
  },
  {
   "cell_type": "code",
   "execution_count": 23,
   "id": "ca76c0c8",
   "metadata": {},
   "outputs": [
    {
     "name": "stdout",
     "output_type": "stream",
     "text": [
      "2   0.914\n",
      "3   0.928\n",
      "4   0.928\n",
      "5   0.924\n",
      "6   0.93\n",
      "7   0.924\n",
      "8   0.924\n",
      "9   0.921\n",
      "10   0.921\n",
      "11   0.915\n",
      "12   0.915\n",
      "13   0.913\n",
      "14   0.918\n",
      "15   0.915\n"
     ]
    }
   ],
   "source": [
    "for nb in range(2,16):\n",
    "    neigh = KNeighborsClassifier(n_neighbors=nb)\n",
    "    neigh.fit(X_train,y_train)\n",
    "    print(nb,\" \",neigh.score(X_test, y_test))"
   ]
  },
  {
   "cell_type": "markdown",
   "id": "1a4bbcfd",
   "metadata": {},
   "source": [
    "Utilisez la function KFold(len(X),n_folds=10,shuffle=True) de la classe\n",
    "class sklearn.model_selection"
   ]
  },
  {
   "cell_type": "code",
   "execution_count": 24,
   "id": "36d23696",
   "metadata": {},
   "outputs": [
    {
     "name": "stdout",
     "output_type": "stream",
     "text": [
      "2   0.9266000000000002\n",
      "3   0.9359999999999999\n",
      "4   0.9359999999999999\n",
      "5   0.933\n",
      "6   0.9326000000000001\n",
      "7   0.9303999999999999\n",
      "8   0.9296\n",
      "9   0.9267999999999998\n",
      "10   0.9256000000000002\n",
      "11   0.9240000000000002\n",
      "12   0.9224\n",
      "13   0.9192\n",
      "14   0.9180000000000001\n",
      "15   0.9166000000000001\n"
     ]
    }
   ],
   "source": [
    "kf = KFold(random_state = len(X_train), n_splits=10,shuffle=True) \n",
    "for nb in range(2,16):\n",
    "    avg=[]\n",
    "    for train_index, test_index in kf.split(jeu):\n",
    "        X_train, X_test = jeu[train_index], jeu[test_index]\n",
    "        y_train, y_test = jeu_target[train_index], jeu_target[test_index]        \n",
    "        neigh = KNeighborsClassifier(n_neighbors=nb)\n",
    "        neigh.fit(X_train,y_train)\n",
    "        avg.append(neigh.score(X_test, y_test))\n",
    "    print(nb,\" \",sum(avg) / len(avg))"
   ]
  },
  {
   "cell_type": "markdown",
   "id": "12760693",
   "metadata": {},
   "source": [
    "Faites varier le pourcentage des échantillons (training et test) et affichez le score. Quel est \n",
    "le pourcentage remarquable ? "
   ]
  },
  {
   "cell_type": "code",
   "execution_count": 36,
   "id": "3c427bd0",
   "metadata": {},
   "outputs": [
    {
     "name": "stdout",
     "output_type": "stream",
     "text": [
      "0.1   0.8295555555555556\n",
      "0.2   0.872\n",
      "0.30000000000000004   0.8931428571428571\n",
      "0.4   0.9076666666666666\n",
      "0.5   0.912\n",
      "0.6   0.917\n",
      "0.7000000000000001   0.9213333333333333\n",
      "0.8   0.928\n",
      "0.9   0.936\n"
     ]
    }
   ],
   "source": [
    "res_arr = []\n",
    "\n",
    "for x in np.arange(0.1,1,0.1):\n",
    "    \n",
    "    X_train,X_test,y_train,y_test = train_test_split(jeu,jeu_target, \n",
    "                train_size = x,test_size=1-x, random_state=42)\n",
    "    current_score = []\n",
    "        \n",
    "    neigh = KNeighborsClassifier(n_neighbors=4)\n",
    "    neigh.fit(X_train,y_train)\n",
    "    print(x,\" \",neigh.score(X_test, y_test))"
   ]
  },
  {
   "cell_type": "markdown",
   "id": "06c5198d",
   "metadata": {},
   "source": [
    "Faites varier la taille de l’échantillon training et affichez la précision. Qu'est-ce que vous \n",
    "remarquez"
   ]
  },
  {
   "cell_type": "code",
   "execution_count": 26,
   "id": "d56cab7c",
   "metadata": {},
   "outputs": [
    {
     "name": "stdout",
     "output_type": "stream",
     "text": [
      "5000   0.948\n",
      "10000   0.934\n",
      "15000   0.9446666666666667\n",
      "20000   0.966\n",
      "25000   0.9612\n",
      "30000   0.9636666666666667\n"
     ]
    }
   ],
   "source": [
    "res_array_size = []\n",
    "\n",
    "for n in range(5000,35000,5000):\n",
    "    echantillon = np.random.randint(70000,size=n)\n",
    "    jeu = mnist.data[echantillon]\n",
    "    jeu_target=mnist.target[echantillon]\n",
    "    X_train,X_test,y_train,y_test = train_test_split(jeu,jeu_target, \n",
    "                train_size = 0.9,test_size=0.1, random_state=42)\n",
    "    \n",
    "    neigh = KNeighborsClassifier(n_neighbors=4)\n",
    "    neigh.fit(X_train,y_train)\n",
    "    print(n,\" \",neigh.score(X_test, y_test))"
   ]
  },
  {
   "cell_type": "markdown",
   "id": "80bfcef7",
   "metadata": {},
   "source": [
    "Faites varier les types de distances (p). Quelle est la meilleure distance ?"
   ]
  },
  {
   "cell_type": "code",
   "execution_count": 27,
   "id": "f81d8da9",
   "metadata": {},
   "outputs": [
    {
     "name": "stdout",
     "output_type": "stream",
     "text": [
      "euclidean  0.936\n",
      "manhattan  0.92\n",
      "chebyshev  0.604\n",
      "minkowski  0.936\n"
     ]
    }
   ],
   "source": [
    "echantillon = np.loadtxt('./sous-ensemble.txt', dtype=int)\n",
    "jeu = mnist.data[echantillon]\n",
    "jeu_target=mnist.target[echantillon]\n",
    "\n",
    "X_train,X_test,y_train,y_test = train_test_split(jeu,jeu_target, \n",
    "            train_size = 0.9,test_size=0.1, random_state=42)\n",
    "neigh = KNeighborsClassifier(n_neighbors=4,metric='euclidean')\n",
    "neigh.fit(X_train,y_train)\n",
    "print(\"euclidean \",neigh.score(X_test, y_test))\n",
    "\n",
    "X_train,X_test,y_train,y_test = train_test_split(jeu,jeu_target, \n",
    "            train_size = 0.9,test_size=0.1, random_state=42)\n",
    "neigh = KNeighborsClassifier(n_neighbors=4,metric='manhattan')\n",
    "neigh.fit(X_train,y_train)\n",
    "print(\"manhattan \",neigh.score(X_test, y_test))\n",
    "\n",
    "X_train,X_test,y_train,y_test = train_test_split(jeu,jeu_target, \n",
    "            train_size = 0.9,test_size=0.1, random_state=42)\n",
    "neigh = KNeighborsClassifier(n_neighbors=4,metric='chebyshev')\n",
    "neigh.fit(X_train,y_train)\n",
    "print(\"chebyshev \",neigh.score(X_test, y_test))\n",
    "\n",
    "\n",
    "X_train,X_test,y_train,y_test = train_test_split(jeu,jeu_target, \n",
    "            train_size = 0.9,test_size=0.1, random_state=42)\n",
    "neigh = KNeighborsClassifier(n_neighbors=4,metric='minkowski')\n",
    "neigh.fit(X_train,y_train)\n",
    "print(\"minkowski \",neigh.score(X_test, y_test))"
   ]
  },
  {
   "cell_type": "markdown",
   "id": "f809034e",
   "metadata": {},
   "source": [
    "Fixez n_job à  1 puis à -1 et calculez le temps de chacun."
   ]
  },
  {
   "cell_type": "code",
   "execution_count": 31,
   "id": "2ffe2f4f",
   "metadata": {},
   "outputs": [
    {
     "name": "stdout",
     "output_type": "stream",
     "text": [
      "Runtime :  0.2 ms\n",
      "n_jobs=1  0.936\n",
      "Runtime :  0.12 ms\n",
      "n_jobs=-1  0.936\n"
     ]
    }
   ],
   "source": [
    "import time\n",
    "echantillon = np.loadtxt('./sous-ensemble.txt', dtype=int)\n",
    "jeu = mnist.data[echantillon]\n",
    "jeu_target=mnist.target[echantillon]\n",
    "\n",
    "X_train,X_test,y_train,y_test = train_test_split(jeu,jeu_target, \n",
    "            train_size = 0.9,test_size=0.1, random_state=42)\n",
    "starttime = time.time()\n",
    "neigh = KNeighborsClassifier(n_neighbors=4,n_jobs=1,metric='euclidean')\n",
    "endtime = time.time()\n",
    "print(\"Runtime : \", round((endtime - starttime)*1000,2),\"ms\")\n",
    "neigh.fit(X_train,y_train)\n",
    "print(\"n_jobs=1 \",neigh.score(X_test, y_test))\n",
    "\n",
    "starttime = time.time()\n",
    "neigh = KNeighborsClassifier(n_neighbors=4,n_jobs=-1,metric='euclidean')\n",
    "endtime = time.time()\n",
    "print(\"Runtime : \", round((endtime - starttime)*1000,2),\"ms\")\n",
    "neigh.fit(X_train,y_train)\n",
    "print(\"n_jobs=-1 \",neigh.score(X_test, y_test))"
   ]
  },
  {
   "cell_type": "code",
   "execution_count": 35,
   "id": "18a91d3c",
   "metadata": {},
   "outputs": [
    {
     "data": {
      "text/plain": [
       "['saved_models/knn.pkl']"
      ]
     },
     "execution_count": 35,
     "metadata": {},
     "output_type": "execute_result"
    }
   ],
   "source": [
    "joblib.dump(neigh, 'saved_models/knn.pkl') "
   ]
  }
 ],
 "metadata": {
  "kernelspec": {
   "display_name": "Python 3",
   "language": "python",
   "name": "python3"
  },
  "language_info": {
   "codemirror_mode": {
    "name": "ipython",
    "version": 3
   },
   "file_extension": ".py",
   "mimetype": "text/x-python",
   "name": "python",
   "nbconvert_exporter": "python",
   "pygments_lexer": "ipython3",
   "version": "3.8.10"
  }
 },
 "nbformat": 4,
 "nbformat_minor": 5
}
