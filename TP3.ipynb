{
 "cells": [
  {
   "cell_type": "code",
   "execution_count": 6,
   "id": "d171755a",
   "metadata": {},
   "outputs": [],
   "source": [
    "from sklearn.datasets import fetch_openml \n",
    "import numpy as np\n",
    "from sklearn.model_selection import train_test_split\n",
    "from sklearn.metrics import precision_score\n",
    "from sklearn.svm import SVC"
   ]
  },
  {
   "cell_type": "markdown",
   "id": "a3977bbd",
   "metadata": {},
   "source": [
    "Charger le jeu de données mnist,"
   ]
  },
  {
   "cell_type": "code",
   "execution_count": 2,
   "id": "800b1d75",
   "metadata": {},
   "outputs": [],
   "source": [
    "mnist = fetch_openml('mnist_784',as_frame=False)"
   ]
  },
  {
   "cell_type": "markdown",
   "id": "9d6a7718",
   "metadata": {},
   "source": [
    "Diviser la base de données à 70% pour l’apprentissage (training) et à 30% \n",
    "pour les tests,"
   ]
  },
  {
   "cell_type": "code",
   "execution_count": 3,
   "id": "231faa1d",
   "metadata": {},
   "outputs": [],
   "source": [
    "echantillon = np.random.randint(70000,size=70000)\n",
    "jeu = mnist.data[echantillon]\n",
    "jeu_target=mnist.target[echantillon]\n",
    "\n",
    "X_train,X_test,y_train,y_test = train_test_split(jeu,jeu_target, \n",
    "                train_size = 0.7,test_size=0.3, random_state=42)"
   ]
  },
  {
   "cell_type": "markdown",
   "id": "1cd38fc8",
   "metadata": {},
   "source": [
    "EN se basant sur les fonctions usuelles : \n",
    "\n",
    "  classifier = svm.SVC()   \n",
    "\n",
    "  classifier.fit() \n",
    "\n",
    "  predicted = classifier.predict() "
   ]
  },
  {
   "cell_type": "code",
   "execution_count": 9,
   "id": "edea71ef",
   "metadata": {},
   "outputs": [],
   "source": [
    "classifier = SVC()\n",
    "classifier.fit(X_train, y_train)\n",
    "predicted = classifier.predict(X_test)"
   ]
  },
  {
   "cell_type": "markdown",
   "id": "371e69cc",
   "metadata": {},
   "source": [
    "Construire un modèle de classification ayant comme paramètres un noyau \n",
    "linear: clsvm = svm.SVC(kernel=’linear’). "
   ]
  },
  {
   "cell_type": "code",
   "execution_count": 8,
   "id": "39a33e99",
   "metadata": {},
   "outputs": [],
   "source": [
    "clsvm = SVC(kernel='linear')"
   ]
  },
  {
   "cell_type": "markdown",
   "id": "1f64f4ab",
   "metadata": {},
   "source": [
    "Tentez d’améliorer les résultats en variant la fonction noyau : ‘poly’, ‘rbf’, \n",
    "‘sigmoid’, ‘precomputed’.  "
   ]
  }
 ],
 "metadata": {
  "kernelspec": {
   "display_name": "Python 3",
   "language": "python",
   "name": "python3"
  },
  "language_info": {
   "codemirror_mode": {
    "name": "ipython",
    "version": 3
   },
   "file_extension": ".py",
   "mimetype": "text/x-python",
   "name": "python",
   "nbconvert_exporter": "python",
   "pygments_lexer": "ipython3",
   "version": "3.8.10"
  }
 },
 "nbformat": 4,
 "nbformat_minor": 5
}
