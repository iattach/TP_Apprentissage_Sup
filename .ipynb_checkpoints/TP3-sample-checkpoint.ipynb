{
 "cells": [
  {
   "cell_type": "code",
   "execution_count": 18,
   "id": "f727a0f3",
   "metadata": {},
   "outputs": [],
   "source": [
    "from sklearn.datasets import fetch_openml \n",
    "import numpy as np\n",
    "from sklearn.model_selection import train_test_split\n",
    "from sklearn.metrics import precision_score\n",
    "from sklearn.svm import SVC\n",
    "import numpy as np\n",
    "import hdbscan\n",
    "import matplotlib.pyplot as plt\n",
    "import matplotlib.pylab as pyl\n",
    "import time\n",
    "import random\n",
    "import sys\n"
   ]
  },
  {
   "cell_type": "code",
   "execution_count": 2,
   "id": "f4485fb3",
   "metadata": {},
   "outputs": [],
   "source": [
    "mnist = fetch_openml('mnist_784',as_frame=False)"
   ]
  },
  {
   "cell_type": "code",
   "execution_count": 3,
   "id": "c3ac4eb5",
   "metadata": {},
   "outputs": [],
   "source": [
    "echantillon = np.random.randint(70000,size=5000)\n",
    "jeu = mnist.data[echantillon]\n",
    "jeu_target=mnist.target[echantillon]\n",
    "\n",
    "X_train,X_test,y_train,y_test = train_test_split(jeu,jeu_target, \n",
    "                train_size = 0.7,test_size=0.3, random_state=42)"
   ]
  },
  {
   "cell_type": "code",
   "execution_count": 4,
   "id": "9fe46426",
   "metadata": {},
   "outputs": [],
   "source": [
    "classifier = SVC()\n",
    "classifier.fit(X_train, y_train)\n",
    "predicted = classifier.predict(X_test)"
   ]
  },
  {
   "cell_type": "code",
   "execution_count": 10,
   "id": "d3a28f2d",
   "metadata": {},
   "outputs": [
    {
     "name": "stdout",
     "output_type": "stream",
     "text": [
      "linear   0.8933333333333333\n",
      "poly   0.94\n",
      "rbf   0.95\n",
      "sigmoid   0.834\n"
     ]
    }
   ],
   "source": [
    "#'precomputed' not possible because\n",
    "#If a callable is given it is used to pre-compute the \n",
    "#kernel matrix from data matrices; \n",
    "#that matrix should be an array of shape (n_samples, n_samples)\n",
    "\n",
    "list_kernel=['linear','poly','rbf','sigmoid']\n",
    "for i in list_kernel:\n",
    "    classifier = SVC(kernel=i)\n",
    "    classifier.fit(X_train, y_train)\n",
    "    predicted = classifier.predict(X_test)\n",
    "    score = precision_score(y_test, predicted,average='micro')\n",
    "    print(i,\" \",score)"
   ]
  },
  {
   "cell_type": "code",
   "execution_count": 16,
   "id": "20047d43",
   "metadata": {},
   "outputs": [
    {
     "name": "stdout",
     "output_type": "stream",
     "text": [
      "0.1   0.8993333333333333\n",
      "0.3   0.9233333333333333\n",
      "0.5   0.9333333333333333\n",
      "0.7   0.9393333333333334\n",
      "0.9   0.9486666666666667\n"
     ]
    }
   ],
   "source": [
    "tol_erreur=[x/10.0 for x in range(1,10,2)]\n",
    "accuracys = []\n",
    "for i in tol_erreur:\n",
    "    classifier = SVC(kernel='rbf',C=i)\n",
    "    classifier.fit(X_train, y_train)\n",
    "    accuracy = classifier.score(X_train, y_train)\n",
    "    predicted = classifier.predict(X_test)\n",
    "    score = precision_score(y_test, predicted,average='micro')\n",
    "    accuracys.append(1.0-accuracy)\n",
    "    print(i,\" \",score)"
   ]
  },
  {
   "cell_type": "code",
   "execution_count": 21,
   "id": "0917150a",
   "metadata": {},
   "outputs": [
    {
     "data": {
      "image/png": "[encoded data removed]",
      "text/plain": [
       "<Figure size 432x288 with 1 Axes>"
      ]
     },
     "metadata": {
      "needs_background": "light"
     },
     "output_type": "display_data"
    }
   ],
   "source": [
    "plt.plot(tol_erreur,accuracys, 'b^-',label='trendence')\n",
    "plt.legend()\n",
    "#plt.set_title('relation between runtime and cluster number')\n",
    "plt.xlabel('tolérance aux erreurs C')\n",
    "plt.ylabel('erreur de classification')\n",
    "plt.show()\n"
   ]
  },
  {
   "cell_type": "code",
   "execution_count": null,
   "id": "73f6891a",
   "metadata": {},
   "outputs": [],
   "source": [
    "from sklearn.metrics import confusion_matrix\n",
    "cm = confusion_matrix(Y_test, Y_pred) "
   ]
  }
 ],
 "metadata": {
  "kernelspec": {
   "display_name": "Python 3",
   "language": "python",
   "name": "python3"
  },
  "language_info": {
   "codemirror_mode": {
    "name": "ipython",
    "version": 3
   },
   "file_extension": ".py",
   "mimetype": "text/x-python",
   "name": "python",
   "nbconvert_exporter": "python",
   "pygments_lexer": "ipython3",
   "version": "3.8.10"
  }
 },
 "nbformat": 4,
 "nbformat_minor": 5
}
