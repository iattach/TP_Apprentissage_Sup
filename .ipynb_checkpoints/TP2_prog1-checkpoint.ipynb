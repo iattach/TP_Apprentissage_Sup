{
 "cells": [
  {
   "cell_type": "code",
   "execution_count": 13,
   "id": "cd84bcb4",
   "metadata": {},
   "outputs": [],
   "source": [
    "from sklearn.datasets import fetch_openml \n",
    "import numpy as np\n",
    "from sklearn.model_selection import train_test_split\n",
    "from sklearn.neural_network import MLPClassifier\n",
    "from sklearn.metrics import precision_score\n",
    "import time\n",
    "import random\n",
    "import sys"
   ]
  },
  {
   "cell_type": "code",
   "execution_count": 2,
   "id": "9c7115d3",
   "metadata": {},
   "outputs": [],
   "source": [
    "import multiprocessing\n",
    "n_jobs=multiprocessing.cpu_count()-1"
   ]
  },
  {
   "cell_type": "markdown",
   "id": "b6c59712",
   "metadata": {},
   "source": [
    "Charger le jeu de données MNIST.. "
   ]
  },
  {
   "cell_type": "code",
   "execution_count": 3,
   "id": "2cf260f6",
   "metadata": {},
   "outputs": [],
   "source": [
    "mnist = fetch_openml('mnist_784',as_frame=False)"
   ]
  },
  {
   "cell_type": "markdown",
   "id": "ce1a6f5a",
   "metadata": {},
   "source": [
    "Diviser la base de données en 49000 lignes pour l’apprentissage (training) et \n",
    "le reste pour les tests. "
   ]
  },
  {
   "cell_type": "code",
   "execution_count": 4,
   "id": "3a0a2750",
   "metadata": {},
   "outputs": [
    {
     "name": "stdout",
     "output_type": "stream",
     "text": [
      "49000\n",
      "21000\n",
      "(49000, 784)\n"
     ]
    }
   ],
   "source": [
    "echantillon = np.random.randint(70000,size=70000)\n",
    "jeu = mnist.data[echantillon]\n",
    "jeu_target=mnist.target[echantillon]\n",
    "\n",
    "X_train,X_test,y_train,y_test = train_test_split(jeu,jeu_target, \n",
    "                train_size = 0.7,test_size=0.3, random_state=42)\n",
    "print(len(X_train))\n",
    "print(len(X_test))\n",
    "print(X_train.shape)"
   ]
  },
  {
   "cell_type": "markdown",
   "id": "954d88ac",
   "metadata": {},
   "source": [
    "Construire un modèle de classification ayant comme paramètre : \n",
    "hidden_layer_sizes = (50), puis calculez la précession du classifieur ; "
   ]
  },
  {
   "cell_type": "code",
   "execution_count": 5,
   "id": "aa8b7b2a",
   "metadata": {},
   "outputs": [],
   "source": [
    "clf = MLPClassifier(hidden_layer_sizes=(50))"
   ]
  },
  {
   "cell_type": "markdown",
   "id": "80a4d228",
   "metadata": {},
   "source": [
    "Afficher la classe de l’image 4 et sa classe prédite."
   ]
  },
  {
   "cell_type": "code",
   "execution_count": 6,
   "id": "e3b3bb18",
   "metadata": {},
   "outputs": [],
   "source": [
    "clf.fit(X_train, y_train)\n",
    "y_pr=clf.predict(X_test)\n",
    "class_test_4 = clf.predict([X_test[4]])\n",
    "class_reel_4 = y_test[4]"
   ]
  },
  {
   "cell_type": "markdown",
   "id": "5aec354f",
   "metadata": {},
   "source": [
    "Calculez la précession en utilisant le package : \n",
    "metrics.precision_score(ytest_pr, ypredTest_pr,average='micro'). "
   ]
  },
  {
   "cell_type": "code",
   "execution_count": 7,
   "id": "f3b9536f",
   "metadata": {},
   "outputs": [
    {
     "name": "stdout",
     "output_type": "stream",
     "text": [
      "[0.97487923 0.98600787 0.95247428 0.95923261 0.9693451  0.9435654\n",
      " 0.96299766 0.97347604 0.91298146 0.95771264]\n",
      "21000\n",
      "0.9597142857142857\n",
      "21000\n"
     ]
    }
   ],
   "source": [
    "score = precision_score(y_test,y_pr,average=None)\n",
    "print(score)\n",
    "print(len(y_pr))\n",
    "score = precision_score(y_test,y_pr,average=\"micro\")\n",
    "print(score)\n",
    "print(len(y_pr))"
   ]
  },
  {
   "cell_type": "markdown",
   "id": "00b944c0",
   "metadata": {},
   "source": [
    "Varier le nombre de couches de 1 entre (2 et 100) couches, et recalculer la \n",
    "précision du classifieur. "
   ]
  },
  {
   "cell_type": "code",
   "execution_count": 9,
   "id": "a3188839",
   "metadata": {},
   "outputs": [
    {
     "name": "stdout",
     "output_type": "stream",
     "text": [
      "1   0.9646190476190476\n",
      "2   0.9706666666666667\n",
      "3   0.9708571428571429\n",
      "4   0.9787619047619047\n",
      "5   0.980904761904762\n",
      "6   0.9774761904761905\n",
      "7   0.9785714285714285\n",
      "8   0.9814761904761905\n",
      "9   0.9784285714285714\n",
      "10   0.9808095238095238\n",
      "11   0.9784285714285714\n",
      "12   0.9809523809523809\n",
      "13   0.9808571428571429\n",
      "14   0.9806666666666667\n",
      "15   0.9806666666666667\n",
      "16   0.9754285714285714\n",
      "17   0.9828095238095238\n",
      "18   0.9783809523809524\n",
      "19   0.9751428571428571\n",
      "20   0.9784761904761905\n",
      "21   0.9506190476190476\n",
      "22   0.9699523809523809\n",
      "23   0.9804761904761905\n",
      "24   0.9735238095238096\n",
      "25   0.9722857142857143\n",
      "26   0.9679047619047619\n",
      "27   0.9023809523809524\n",
      "28   0.9680952380952381\n",
      "29   0.8725238095238095\n",
      "30   0.977047619047619\n",
      "31   0.9199047619047619\n",
      "32   0.8883333333333333\n",
      "33   0.911047619047619\n",
      "34   0.8921904761904762\n",
      "35   0.9464285714285714\n",
      "36   0.6925714285714286\n",
      "37   0.73\n",
      "38   0.6823809523809524\n",
      "39   0.868\n",
      "40   0.6461904761904762\n",
      "41   0.37342857142857144\n",
      "42   0.8328095238095238\n",
      "43   0.7304761904761905\n",
      "44   0.7634761904761905\n",
      "45   0.926\n",
      "46   0.10904761904761905\n",
      "47   0.10904761904761905\n",
      "48   0.6604285714285715\n",
      "49   0.10904761904761905\n",
      "50   0.8815238095238095\n",
      "51   0.10904761904761905\n",
      "52   0.10904761904761905\n",
      "53   0.10904761904761905\n",
      "54   0.10904761904761905\n",
      "55   0.10904761904761905\n",
      "56   0.10904761904761905\n",
      "57   0.10904761904761905\n",
      "58   0.10904761904761905\n",
      "59   0.10904761904761905\n",
      "60   0.10904761904761905\n",
      "61   0.10904761904761905\n",
      "62   0.10904761904761905\n",
      "63   0.10904761904761905\n",
      "64   0.10904761904761905\n",
      "65   0.10904761904761905\n",
      "66   0.10904761904761905\n",
      "67   0.10904761904761905\n",
      "68   0.10904761904761905\n",
      "69   0.10904761904761905\n",
      "70   0.10904761904761905\n",
      "71   0.10904761904761905\n",
      "72   0.10904761904761905\n",
      "73   0.10904761904761905\n",
      "74   0.10904761904761905\n",
      "75   0.10904761904761905\n",
      "76   0.10904761904761905\n",
      "77   0.10904761904761905\n",
      "78   0.10904761904761905\n",
      "79   0.10904761904761905\n",
      "80   0.10904761904761905\n",
      "81   0.10904761904761905\n",
      "82   0.10904761904761905\n",
      "83   0.10904761904761905\n",
      "84   0.10904761904761905\n",
      "85   0.10904761904761905\n",
      "86   0.10904761904761905\n",
      "87   0.10904761904761905\n",
      "88   0.10904761904761905\n",
      "89   0.10904761904761905\n",
      "90   0.10904761904761905\n",
      "91   0.10904761904761905\n",
      "92   0.10904761904761905\n",
      "93   0.10904761904761905\n",
      "94   0.10904761904761905\n",
      "95   0.10904761904761905\n",
      "96   0.10904761904761905\n",
      "97   0.10904761904761905\n",
      "98   0.10904761904761905\n",
      "99   0.10904761904761905\n",
      "100   0.10904761904761905\n"
     ]
    }
   ],
   "source": [
    "taille = []\n",
    "scores = []\n",
    "y_preds =[]\n",
    "for i in range(1,101):\n",
    "    randnums= np.random.randint(1,20,i)\n",
    "    tuple_size=tuple(50 for e in randnums)\n",
    "    \n",
    "    clf = MLPClassifier(hidden_layer_sizes=tuple_size)\n",
    "    clf.fit(X_train, y_train)\n",
    "    y_pr=clf.predict(X_test)\n",
    "    \n",
    "    score = precision_score(y_test,y_pr,average=\"micro\")\n",
    "    \n",
    "    taille.append(i)\n",
    "    y_preds.append(y_pr)\n",
    "    scores.append(score)\n",
    "    \n",
    "    print(i,\" \",score)"
   ]
  },
  {
   "cell_type": "markdown",
   "id": "063fd98f",
   "metadata": {},
   "source": [
    "Construire cinq modèles de classification des données mnist, avec des \n",
    "réseaux qui ont respectivement de 1 à 10 couches cachées, et des tailles de \n",
    "couches entre 10 et 300 neurones au choix d’une façon aléatoire. Quelles \n",
    "sont les performances en taux de bonne classification et en temps \n",
    "d’apprentissage obtenus pour chaque modèle ? Utilisez la fonction time() du \n",
    "package time pour mesurer le temps d’apprentissage d’un modèle.   "
   ]
  },
  {
   "cell_type": "code",
   "execution_count": 10,
   "id": "3611a243",
   "metadata": {},
   "outputs": [
    {
     "name": "stdout",
     "output_type": "stream",
     "text": [
      "[37 12 81 49 96 99 97 52 44 52 78 66 60 31 91 80 39 45 91 63 70 35 79 96\n",
      " 74 71 71 79 41 45  6 82 24 20 45 26 32 58 29 70 22 59 31 39 42 46 67 88\n",
      " 66  4]\n"
     ]
    }
   ],
   "source": [
    "randnums= np.random.randint(1,101,50)\n",
    "randnums=np.array(randnums)\n",
    "print(randnums)"
   ]
  },
  {
   "cell_type": "code",
   "execution_count": 14,
   "id": "92dda7cf",
   "metadata": {},
   "outputs": [
    {
     "ename": "NameError",
     "evalue": "name 'times' is not defined",
     "output_type": "error",
     "traceback": [
      "\u001b[0;31m---------------------------------------------------------------------------\u001b[0m",
      "\u001b[0;31mNameError\u001b[0m                                 Traceback (most recent call last)",
      "\u001b[0;32m<ipython-input-14-d104c8ddee2d>\u001b[0m in \u001b[0;36m<module>\u001b[0;34m\u001b[0m\n\u001b[1;32m     22\u001b[0m     \u001b[0mscores_10\u001b[0m\u001b[0;34m.\u001b[0m\u001b[0mappend\u001b[0m\u001b[0;34m(\u001b[0m\u001b[0mscore\u001b[0m\u001b[0;34m)\u001b[0m\u001b[0;34m\u001b[0m\u001b[0;34m\u001b[0m\u001b[0m\n\u001b[1;32m     23\u001b[0m     \u001b[0mneurones\u001b[0m\u001b[0;34m.\u001b[0m\u001b[0mappend\u001b[0m\u001b[0;34m(\u001b[0m\u001b[0mtuple_size\u001b[0m\u001b[0;34m)\u001b[0m\u001b[0;34m\u001b[0m\u001b[0;34m\u001b[0m\u001b[0m\n\u001b[0;32m---> 24\u001b[0;31m     \u001b[0mtimes\u001b[0m\u001b[0;34m.\u001b[0m\u001b[0mappend\u001b[0m\u001b[0;34m(\u001b[0m\u001b[0mround\u001b[0m\u001b[0;34m(\u001b[0m\u001b[0;34m(\u001b[0m\u001b[0mendtime\u001b[0m \u001b[0;34m-\u001b[0m \u001b[0mstarttime\u001b[0m\u001b[0;34m)\u001b[0m\u001b[0;34m*\u001b[0m\u001b[0;36m1000\u001b[0m\u001b[0;34m,\u001b[0m\u001b[0;36m2\u001b[0m\u001b[0;34m)\u001b[0m\u001b[0;34m)\u001b[0m\u001b[0;34m\u001b[0m\u001b[0;34m\u001b[0m\u001b[0m\n\u001b[0m\u001b[1;32m     25\u001b[0m \u001b[0;34m\u001b[0m\u001b[0m\n\u001b[1;32m     26\u001b[0m     \u001b[0mprint\u001b[0m\u001b[0;34m(\u001b[0m\u001b[0mi\u001b[0m\u001b[0;34m,\u001b[0m\u001b[0;34m\" \"\u001b[0m\u001b[0;34m,\u001b[0m\u001b[0mscore\u001b[0m\u001b[0;34m)\u001b[0m\u001b[0;34m\u001b[0m\u001b[0;34m\u001b[0m\u001b[0m\n",
      "\u001b[0;31mNameError\u001b[0m: name 'times' is not defined"
     ]
    }
   ],
   "source": [
    "taille_10 = []\n",
    "scores_10 = []\n",
    "y_preds_10 =[]\n",
    "times_10 = []\n",
    "neurones = []\n",
    "for i in range(1,10):\n",
    "    randnums= np.random.randint(10,300,i)\n",
    "    tuple_size=tuple(50 for e in randnums)\n",
    "    \n",
    "    starttime = time.time()\n",
    "    \n",
    "    clf = MLPClassifier(hidden_layer_sizes=tuple_size)\n",
    "    clf.fit(X_train, y_train)\n",
    "    y_pr=clf.predict(X_test)\n",
    "    \n",
    "    endtime = time.time() \n",
    "    \n",
    "    score = precision_score(y_test,y_pr,average=\"micro\")\n",
    "    \n",
    "    taille_10.append(i)\n",
    "    y_preds_10.append(y_pr)\n",
    "    scores_10.append(score)\n",
    "    neurones.append(tuple_size)\n",
    "    times.append(round((endtime - starttime)*1000,2))\n",
    "    \n",
    "    print(i,\" \",score)"
   ]
  },
  {
   "cell_type": "code",
   "execution_count": null,
   "id": "9bb25c60",
   "metadata": {},
   "outputs": [],
   "source": []
  }
 ],
 "metadata": {
  "kernelspec": {
   "display_name": "Python 3",
   "language": "python",
   "name": "python3"
  }
 },
 "nbformat": 4,
 "nbformat_minor": 5
}
