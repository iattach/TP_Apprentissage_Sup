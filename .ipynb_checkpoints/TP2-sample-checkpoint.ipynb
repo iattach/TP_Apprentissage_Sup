{
 "cells": [
  {
   "cell_type": "code",
   "execution_count": 1,
   "id": "d025636c",
   "metadata": {},
   "outputs": [],
   "source": [
    "from sklearn.datasets import fetch_openml \n",
    "import numpy as np\n",
    "from sklearn.model_selection import train_test_split\n",
    "from sklearn.neural_network import MLPClassifier\n",
    "from sklearn.metrics import precision_score\n",
    "import matplotlib.pyplot as plt\n",
    "import matplotlib.pylab as pyl\n",
    "import time\n",
    "import random\n",
    "import sys"
   ]
  },
  {
   "cell_type": "code",
   "execution_count": 2,
   "id": "096bd95b",
   "metadata": {},
   "outputs": [],
   "source": [
    "mnist = fetch_openml('mnist_784',as_frame=False)"
   ]
  },
  {
   "cell_type": "code",
   "execution_count": 3,
   "id": "14b0d157",
   "metadata": {},
   "outputs": [],
   "source": [
    "import multiprocessing\n",
    "n_jobs=multiprocessing.cpu_count()-1"
   ]
  },
  {
   "cell_type": "code",
   "execution_count": 4,
   "id": "e796b20c",
   "metadata": {},
   "outputs": [
    {
     "name": "stdout",
     "output_type": "stream",
     "text": [
      "3500\n",
      "1500\n",
      "(3500, 784)\n"
     ]
    }
   ],
   "source": [
    "#echantillon = np.savetxt('./sous-ensemble.txt', echantillon, fmt='%d')\n",
    "echantillon = np.loadtxt('./sous-ensemble.txt', dtype=int)\n",
    "jeu = mnist.data[echantillon]\n",
    "jeu_target=mnist.target[echantillon]\n",
    "\n",
    "X_train,X_test,y_train,y_test = train_test_split(jeu,jeu_target, \n",
    "                train_size = 0.7,test_size=0.3, random_state=42)\n",
    "print(len(X_train))\n",
    "print(len(X_test))\n",
    "print(X_train.shape)"
   ]
  },
  {
   "cell_type": "code",
   "execution_count": 5,
   "id": "e3ed6d30",
   "metadata": {},
   "outputs": [],
   "source": [
    "clf = MLPClassifier(hidden_layer_sizes=(50))"
   ]
  },
  {
   "cell_type": "code",
   "execution_count": 6,
   "id": "f7ef9c4d",
   "metadata": {},
   "outputs": [
    {
     "name": "stdout",
     "output_type": "stream",
     "text": [
      "5\n",
      "3\n"
     ]
    }
   ],
   "source": [
    "clf.fit(X_train, y_train)\n",
    "y_pr=clf.predict(X_test)\n",
    "class_test_4 = clf.predict(X_test)\n",
    "class_reel_4 = y_test[4]\n",
    "print(class_test_4[4])\n",
    "print(class_reel_4)"
   ]
  },
  {
   "cell_type": "code",
   "execution_count": 7,
   "id": "e0c1b020",
   "metadata": {
    "scrolled": true
   },
   "outputs": [
    {
     "name": "stdout",
     "output_type": "stream",
     "text": [
      "[0.91946309 0.96153846 0.83783784 0.8164557  0.79141104 0.74637681\n",
      " 0.90384615 0.87333333 0.79054054 0.81343284]\n",
      "1500\n",
      "0.8466666666666667\n",
      "1500\n"
     ]
    }
   ],
   "source": [
    "score = precision_score(y_test,y_pr,average=None)\n",
    "print(score)\n",
    "print(len(y_pr))\n",
    "score = precision_score(y_test,y_pr,average=\"micro\")\n",
    "print(score)\n",
    "print(len(y_pr))"
   ]
  },
  {
   "cell_type": "code",
   "execution_count": 8,
   "id": "b21cf393",
   "metadata": {},
   "outputs": [
    {
     "name": "stdout",
     "output_type": "stream",
     "text": [
      "1   0.8526666666666667\n",
      "2   0.8146666666666667\n",
      "3   0.8513333333333334\n",
      "4   0.8666666666666667\n",
      "5   0.8593333333333333\n",
      "6   0.8653333333333333\n",
      "7   0.894\n",
      "8   0.8826666666666667\n",
      "9   0.9006666666666666\n",
      "10   0.9013333333333333\n",
      "11   0.888\n",
      "12   0.9\n",
      "13   0.9206666666666666\n",
      "14   0.9046666666666666\n",
      "15   0.9146666666666666\n",
      "16   0.9086666666666666\n",
      "17   0.9126666666666666\n",
      "18   0.9166666666666666\n",
      "19   0.9073333333333333\n",
      "20   0.8873333333333333\n",
      "21   0.91\n",
      "22   0.872\n",
      "23   0.908\n",
      "24   0.9046666666666666\n",
      "25   0.9066666666666666\n",
      "26   0.9073333333333333\n",
      "27   0.9133333333333333\n",
      "28   0.8366666666666667\n",
      "29   0.904\n",
      "30   0.822\n",
      "31   0.8693333333333333\n",
      "32   0.8233333333333334\n",
      "33   0.8746666666666667\n",
      "34   0.8486666666666667\n",
      "35   0.5986666666666667\n",
      "36   0.7\n",
      "37   0.802\n",
      "38   0.5686666666666667\n",
      "39   0.812\n",
      "40   0.6866666666666666\n",
      "41   0.6746666666666666\n",
      "42   0.854\n",
      "43   0.7473333333333333\n",
      "44   0.8193333333333334\n",
      "45   0.674\n",
      "46   0.6366666666666667\n",
      "47   0.56\n",
      "48   0.10666666666666667\n",
      "49   0.828\n",
      "50   0.10666666666666667\n",
      "51   0.10666666666666667\n",
      "52   0.10666666666666667\n",
      "53   0.10666666666666667\n",
      "54   0.10666666666666667\n",
      "55   0.10666666666666667\n",
      "56   0.10666666666666667\n",
      "57   0.10666666666666667\n",
      "58   0.10666666666666667\n",
      "59   0.10666666666666667\n",
      "60   0.10666666666666667\n",
      "61   0.10666666666666667\n",
      "62   0.10666666666666667\n",
      "63   0.10666666666666667\n",
      "64   0.10666666666666667\n",
      "65   0.10666666666666667\n",
      "66   0.10666666666666667\n",
      "67   0.10666666666666667\n",
      "68   0.10666666666666667\n",
      "69   0.10666666666666667\n",
      "70   0.10666666666666667\n",
      "71   0.10666666666666667\n",
      "72   0.10666666666666667\n",
      "73   0.10666666666666667\n",
      "74   0.10666666666666667\n",
      "75   0.10666666666666667\n",
      "76   0.10666666666666667\n",
      "77   0.10666666666666667\n",
      "78   0.10666666666666667\n",
      "79   0.10666666666666667\n",
      "80   0.10666666666666667\n",
      "81   0.10666666666666667\n",
      "82   0.10666666666666667\n",
      "83   0.10666666666666667\n",
      "84   0.10666666666666667\n",
      "85   0.10666666666666667\n",
      "86   0.10666666666666667\n",
      "87   0.10666666666666667\n",
      "88   0.10666666666666667\n",
      "89   0.10666666666666667\n",
      "90   0.10666666666666667\n",
      "91   0.10666666666666667\n",
      "92   0.10666666666666667\n",
      "93   0.10666666666666667\n",
      "94   0.10666666666666667\n",
      "95   0.10666666666666667\n",
      "96   0.10666666666666667\n",
      "97   0.10666666666666667\n",
      "98   0.10666666666666667\n",
      "99   0.10666666666666667\n",
      "100   0.10666666666666667\n"
     ]
    }
   ],
   "source": [
    "taille = []\n",
    "scores = []\n",
    "y_preds =[]\n",
    "for i in range(1,101):\n",
    "    randnums= np.random.randint(1,20,i)\n",
    "    tuple_size=tuple(50 for e in randnums)\n",
    "    \n",
    "    clf = MLPClassifier(hidden_layer_sizes=tuple_size)\n",
    "    clf.fit(X_train, y_train)\n",
    "    y_pr=clf.predict(X_test)\n",
    "    \n",
    "    score = precision_score(y_test,y_pr,average=\"micro\")\n",
    "    \n",
    "    taille.append(i)\n",
    "    y_preds.append(y_pr)\n",
    "    scores.append(score)\n",
    "    \n",
    "    print(i,\" \",score)"
   ]
  },
  {
   "cell_type": "code",
   "execution_count": 9,
   "id": "572de678",
   "metadata": {},
   "outputs": [
    {
     "name": "stdout",
     "output_type": "stream",
     "text": [
      "1   0.8146666666666667\n",
      "2   0.8353333333333334\n",
      "3   0.8273333333333334\n",
      "4   0.8486666666666667\n",
      "5   0.8606666666666667\n",
      "6   0.8826666666666667\n",
      "7   0.8826666666666667\n",
      "8   0.8966666666666666\n",
      "9   0.9033333333333333\n",
      "10   0.8953333333333333\n"
     ]
    }
   ],
   "source": [
    "taille_10 = []\n",
    "scores_10 = []\n",
    "y_preds_10 =[]\n",
    "times_10 = []\n",
    "neurones = []\n",
    "for i in range(1,11):\n",
    "    randnums= np.random.randint(10,300,i)\n",
    "    tuple_size=tuple(50 for e in randnums)\n",
    "    \n",
    "    starttime = time.time()\n",
    "    \n",
    "    clf = MLPClassifier(hidden_layer_sizes=tuple_size)\n",
    "    clf.fit(X_train, y_train)\n",
    "    y_pr=clf.predict(X_test)\n",
    "    \n",
    "    endtime = time.time() \n",
    "    \n",
    "    score = precision_score(y_test,y_pr,average=\"micro\")\n",
    "    \n",
    "    taille_10.append(i)\n",
    "    y_preds_10.append(y_pr)\n",
    "    scores_10.append(score)\n",
    "    neurones.append(tuple_size)\n",
    "    times_10.append(round((endtime - starttime)*1000,2))\n",
    "    \n",
    "    print(i,\" \",score)"
   ]
  },
  {
   "cell_type": "code",
   "execution_count": null,
   "id": "8e61d8fd",
   "metadata": {},
   "outputs": [],
   "source": []
  }
 ],
 "metadata": {
  "kernelspec": {
   "display_name": "Python 3",
   "language": "python",
   "name": "python3"
  },
  "language_info": {
   "codemirror_mode": {
    "name": "ipython",
    "version": 3
   },
   "file_extension": ".py",
   "mimetype": "text/x-python",
   "name": "python",
   "nbconvert_exporter": "python",
   "pygments_lexer": "ipython3",
   "version": "3.8.10"
  }
 },
 "nbformat": 4,
 "nbformat_minor": 5
}
