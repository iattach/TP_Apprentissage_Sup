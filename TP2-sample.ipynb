{
 "cells": [
  {
   "cell_type": "code",
   "execution_count": 11,
   "id": "d025636c",
   "metadata": {},
   "outputs": [],
   "source": [
    "from sklearn.datasets import fetch_openml \n",
    "import numpy as np\n",
    "from sklearn.model_selection import train_test_split\n",
    "from sklearn.neural_network import MLPClassifier\n",
    "from sklearn.metrics import precision_score\n",
    "import matplotlib.pyplot as plt\n",
    "import matplotlib.pylab as pyl\n",
    "import time\n",
    "import random\n",
    "import sys"
   ]
  },
  {
   "cell_type": "code",
   "execution_count": 4,
   "id": "f4c31d5f",
   "metadata": {},
   "outputs": [],
   "source": [
    "mnist = fetch_openml('mnist_784',as_frame=False)"
   ]
  },
  {
   "cell_type": "code",
   "execution_count": 2,
   "id": "14b0d157",
   "metadata": {},
   "outputs": [],
   "source": [
    "import multiprocessing\n",
    "n_jobs=multiprocessing.cpu_count()-1"
   ]
  },
  {
   "cell_type": "code",
   "execution_count": 5,
   "id": "e796b20c",
   "metadata": {},
   "outputs": [
    {
     "name": "stdout",
     "output_type": "stream",
     "text": [
      "3500\n",
      "1500\n",
      "(3500, 784)\n"
     ]
    }
   ],
   "source": [
    "echantillon = np.random.randint(70000,size=5000)\n",
    "jeu = mnist.data[echantillon]\n",
    "jeu_target=mnist.target[echantillon]\n",
    "\n",
    "X_train,X_test,y_train,y_test = train_test_split(jeu,jeu_target, \n",
    "                train_size = 0.7,test_size=0.3, random_state=42)\n",
    "print(len(X_train))\n",
    "print(len(X_test))\n",
    "print(X_train.shape)"
   ]
  },
  {
   "cell_type": "code",
   "execution_count": 6,
   "id": "e3ed6d30",
   "metadata": {},
   "outputs": [],
   "source": [
    "clf = MLPClassifier(hidden_layer_sizes=(50))"
   ]
  },
  {
   "cell_type": "code",
   "execution_count": 7,
   "id": "f7ef9c4d",
   "metadata": {},
   "outputs": [],
   "source": [
    "clf.fit(X_train, y_train)\n",
    "y_pr=clf.predict(X_test)\n",
    "class_test_4 = clf.predict([X_test[4]])\n",
    "class_reel_4 = y_test[4]"
   ]
  },
  {
   "cell_type": "code",
   "execution_count": 8,
   "id": "e0c1b020",
   "metadata": {
    "scrolled": true
   },
   "outputs": [
    {
     "name": "stdout",
     "output_type": "stream",
     "text": [
      "[0.88275862 0.89893617 0.82014388 0.85714286 0.84375    0.7615894\n",
      " 0.79470199 0.81294964 0.73291925 0.7278481 ]\n",
      "1500\n",
      "0.8133333333333334\n",
      "1500\n"
     ]
    }
   ],
   "source": [
    "score = precision_score(y_test,y_pr,average=None)\n",
    "print(score)\n",
    "print(len(y_pr))\n",
    "score = precision_score(y_test,y_pr,average=\"micro\")\n",
    "print(score)\n",
    "print(len(y_pr))"
   ]
  },
  {
   "cell_type": "code",
   "execution_count": 9,
   "id": "b21cf393",
   "metadata": {},
   "outputs": [
    {
     "name": "stdout",
     "output_type": "stream",
     "text": [
      "1   0.8246666666666667\n",
      "2   0.8286666666666667\n",
      "3   0.8073333333333333\n",
      "4   0.7986666666666666\n",
      "5   0.8393333333333334\n",
      "6   0.8726666666666667\n",
      "7   0.8693333333333333\n",
      "8   0.8713333333333333\n",
      "9   0.8826666666666667\n",
      "10   0.9093333333333333\n",
      "11   0.8933333333333333\n",
      "12   0.8773333333333333\n",
      "13   0.9093333333333333\n",
      "14   0.8986666666666666\n",
      "15   0.8866666666666667\n",
      "16   0.9166666666666666\n",
      "17   0.918\n",
      "18   0.8833333333333333\n",
      "19   0.8846666666666667\n",
      "20   0.894\n",
      "21   0.9106666666666666\n",
      "22   0.8993333333333333\n",
      "23   0.888\n",
      "24   0.8826666666666667\n",
      "25   0.9013333333333333\n",
      "26   0.8826666666666667\n",
      "27   0.8793333333333333\n",
      "28   0.8846666666666667\n",
      "29   0.8686666666666667\n",
      "30   0.874\n",
      "31   0.8506666666666667\n",
      "32   0.8766666666666667\n",
      "33   0.6953333333333334\n",
      "34   0.8246666666666667\n",
      "35   0.7486666666666667\n",
      "36   0.7233333333333334\n",
      "37   0.7533333333333333\n",
      "38   0.8626666666666667\n",
      "39   0.65\n",
      "40   0.62\n",
      "41   0.474\n",
      "42   0.668\n",
      "43   0.7593333333333333\n",
      "44   0.6233333333333333\n",
      "45   0.486\n",
      "46   0.7973333333333333\n",
      "47   0.8166666666666667\n",
      "48   0.11733333333333333\n",
      "49   0.11733333333333333\n",
      "50   0.7706666666666667\n",
      "51   0.634\n",
      "52   0.11733333333333333\n",
      "53   0.11733333333333333\n",
      "54   0.11733333333333333\n",
      "55   0.11733333333333333\n",
      "56   0.11733333333333333\n",
      "57   0.11733333333333333\n",
      "58   0.11733333333333333\n",
      "59   0.11733333333333333\n",
      "60   0.11733333333333333\n",
      "61   0.11733333333333333\n",
      "62   0.11733333333333333\n",
      "63   0.11733333333333333\n",
      "64   0.11733333333333333\n",
      "65   0.11733333333333333\n",
      "66   0.11733333333333333\n",
      "67   0.11733333333333333\n",
      "68   0.11733333333333333\n",
      "69   0.11733333333333333\n",
      "70   0.11733333333333333\n",
      "71   0.11733333333333333\n",
      "72   0.11733333333333333\n",
      "73   0.11733333333333333\n",
      "74   0.11733333333333333\n",
      "75   0.11733333333333333\n",
      "76   0.11733333333333333\n",
      "77   0.11733333333333333\n",
      "78   0.11733333333333333\n",
      "79   0.11733333333333333\n",
      "80   0.11733333333333333\n",
      "81   0.11733333333333333\n",
      "82   0.11733333333333333\n",
      "83   0.11733333333333333\n",
      "84   0.11733333333333333\n",
      "85   0.11733333333333333\n",
      "86   0.11733333333333333\n",
      "87   0.11733333333333333\n",
      "88   0.11733333333333333\n",
      "89   0.11733333333333333\n",
      "90   0.11733333333333333\n",
      "91   0.11733333333333333\n",
      "92   0.11733333333333333\n",
      "93   0.11733333333333333\n",
      "94   0.11733333333333333\n",
      "95   0.11733333333333333\n",
      "96   0.11733333333333333\n",
      "97   0.11733333333333333\n",
      "98   0.11733333333333333\n",
      "99   0.11733333333333333\n",
      "100   0.11733333333333333\n"
     ]
    }
   ],
   "source": [
    "taille = []\n",
    "scores = []\n",
    "y_preds =[]\n",
    "for i in range(1,101):\n",
    "    randnums= np.random.randint(1,20,i)\n",
    "    tuple_size=tuple(50 for e in randnums)\n",
    "    \n",
    "    clf = MLPClassifier(hidden_layer_sizes=tuple_size)\n",
    "    clf.fit(X_train, y_train)\n",
    "    y_pr=clf.predict(X_test)\n",
    "    \n",
    "    score = precision_score(y_test,y_pr,average=\"micro\")\n",
    "    \n",
    "    taille.append(i)\n",
    "    y_preds.append(y_pr)\n",
    "    scores.append(score)\n",
    "    \n",
    "    print(i,\" \",score)"
   ]
  },
  {
   "cell_type": "code",
   "execution_count": 13,
   "id": "572de678",
   "metadata": {},
   "outputs": [
    {
     "name": "stdout",
     "output_type": "stream",
     "text": [
      "1   0.8266666666666667\n",
      "2   0.844\n",
      "3   0.8033333333333333\n",
      "4   0.836\n",
      "5   0.8506666666666667\n",
      "6   0.8713333333333333\n",
      "7   0.8706666666666667\n",
      "8   0.872\n",
      "9   0.8926666666666667\n"
     ]
    }
   ],
   "source": [
    "taille_10 = []\n",
    "scores_10 = []\n",
    "y_preds_10 =[]\n",
    "times_10 = []\n",
    "neurones = []\n",
    "for i in range(1,11):\n",
    "    randnums= np.random.randint(10,300,i)\n",
    "    tuple_size=tuple(50 for e in randnums)\n",
    "    \n",
    "    starttime = time.time()\n",
    "    \n",
    "    clf = MLPClassifier(hidden_layer_sizes=tuple_size)\n",
    "    clf.fit(X_train, y_train)\n",
    "    y_pr=clf.predict(X_test)\n",
    "    \n",
    "    endtime = time.time() \n",
    "    \n",
    "    score = precision_score(y_test,y_pr,average=\"micro\")\n",
    "    \n",
    "    taille_10.append(i)\n",
    "    y_preds_10.append(y_pr)\n",
    "    scores_10.append(score)\n",
    "    neurones.append(tuple_size)\n",
    "    times_10.append(round((endtime - starttime)*1000,2))\n",
    "    \n",
    "    print(i,\" \",score)"
   ]
  },
  {
   "cell_type": "code",
   "execution_count": null,
   "id": "8e61d8fd",
   "metadata": {},
   "outputs": [],
   "source": []
  }
 ],
 "metadata": {
  "kernelspec": {
   "display_name": "Python 3",
   "language": "python",
   "name": "python3"
  },
  "language_info": {
   "codemirror_mode": {
    "name": "ipython",
    "version": 3
   },
   "file_extension": ".py",
   "mimetype": "text/x-python",
   "name": "python",
   "nbconvert_exporter": "python",
   "pygments_lexer": "ipython3",
   "version": "3.8.10"
  }
 },
 "nbformat": 4,
 "nbformat_minor": 5
}
